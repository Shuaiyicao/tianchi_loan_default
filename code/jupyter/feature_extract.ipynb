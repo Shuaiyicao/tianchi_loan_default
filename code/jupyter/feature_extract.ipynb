{
 "metadata": {
  "language_info": {
   "codemirror_mode": {
    "name": "ipython",
    "version": 3
   },
   "file_extension": ".py",
   "mimetype": "text/x-python",
   "name": "python",
   "nbconvert_exporter": "python",
   "pygments_lexer": "ipython3",
   "version": "3.6.5-final"
  },
  "orig_nbformat": 2,
  "kernelspec": {
   "name": "python3",
   "display_name": "Python 3",
   "language": "python"
  }
 },
 "nbformat": 4,
 "nbformat_minor": 2,
 "cells": [
  {
   "source": [
    "# 引入工具包"
   ],
   "cell_type": "markdown",
   "metadata": {}
  },
  {
   "cell_type": "code",
   "execution_count": 60,
   "metadata": {},
   "outputs": [],
   "source": [
    "import pandas as pd\n",
    "import lightgbm as lgb"
   ]
  },
  {
   "source": [
    "# 函数"
   ],
   "cell_type": "markdown",
   "metadata": {}
  },
  {
   "source": [
    "## 输出最大值 最小值 中位数 平均值 分位数值"
   ],
   "cell_type": "markdown",
   "metadata": {}
  },
  {
   "cell_type": "code",
   "execution_count": 49,
   "metadata": {},
   "outputs": [],
   "source": [
    "def load_data(file_name, converters):\n",
    "    data_df = pd.read_csv(file_name, converters=converters)\n",
    "    return data_df"
   ]
  },
  {
   "cell_type": "code",
   "execution_count": null,
   "metadata": {},
   "outputs": [],
   "source": [
    "# df  : dataframe\n",
    "# col : list, dataframe columns name\n",
    "def base_numpy_fea_info(df, col):\n",
    "    pass"
   ]
  },
  {
   "source": [
    "# 载入训练集"
   ],
   "cell_type": "markdown",
   "metadata": {}
  },
  {
   "cell_type": "code",
   "execution_count": 20,
   "metadata": {},
   "outputs": [],
   "source": [
    "raw_data_train = pd.read_csv('../../raw data/train.csv')"
   ]
  },
  {
   "cell_type": "code",
   "execution_count": 21,
   "metadata": {},
   "outputs": [
    {
     "output_type": "execute_result",
     "data": {
      "text/plain": [
       "(800000, 47)"
      ]
     },
     "metadata": {},
     "execution_count": 21
    }
   ],
   "source": [
    "raw_data_train.shape"
   ]
  },
  {
   "cell_type": "code",
   "execution_count": 22,
   "metadata": {},
   "outputs": [
    {
     "output_type": "execute_result",
     "data": {
      "text/plain": [
       "Index(['id', 'loanAmnt', 'term', 'interestRate', 'installment', 'grade',\n",
       "       'subGrade', 'employmentTitle', 'employmentLength', 'homeOwnership',\n",
       "       'annualIncome', 'verificationStatus', 'issueDate', 'isDefault',\n",
       "       'purpose', 'postCode', 'regionCode', 'dti', 'delinquency_2years',\n",
       "       'ficoRangeLow', 'ficoRangeHigh', 'openAcc', 'pubRec',\n",
       "       'pubRecBankruptcies', 'revolBal', 'revolUtil', 'totalAcc',\n",
       "       'initialListStatus', 'applicationType', 'earliesCreditLine', 'title',\n",
       "       'policyCode', 'n0', 'n1', 'n2', 'n3', 'n4', 'n5', 'n6', 'n7', 'n8',\n",
       "       'n9', 'n10', 'n11', 'n12', 'n13', 'n14'],\n",
       "      dtype='object')"
      ]
     },
     "metadata": {},
     "execution_count": 22
    }
   ],
   "source": [
    "raw_data_train.columns"
   ]
  },
  {
   "source": [
    "## 贷款金额 贷款期限"
   ],
   "cell_type": "markdown",
   "metadata": {}
  },
  {
   "cell_type": "code",
   "execution_count": 23,
   "metadata": {},
   "outputs": [
    {
     "output_type": "execute_result",
     "data": {
      "text/plain": [
       "            id  loanAmnt  term\n",
       "0            0   35000.0     5\n",
       "1            1   18000.0     5\n",
       "2            2   12000.0     5\n",
       "3            3   11000.0     3\n",
       "4            4    3000.0     3\n",
       "...        ...       ...   ...\n",
       "799995  799995   25000.0     3\n",
       "799996  799996   17000.0     3\n",
       "799997  799997    6000.0     3\n",
       "799998  799998   19200.0     3\n",
       "799999  799999    9000.0     3\n",
       "\n",
       "[800000 rows x 3 columns]"
      ],
      "text/html": "<div>\n<style scoped>\n    .dataframe tbody tr th:only-of-type {\n        vertical-align: middle;\n    }\n\n    .dataframe tbody tr th {\n        vertical-align: top;\n    }\n\n    .dataframe thead th {\n        text-align: right;\n    }\n</style>\n<table border=\"1\" class=\"dataframe\">\n  <thead>\n    <tr style=\"text-align: right;\">\n      <th></th>\n      <th>id</th>\n      <th>loanAmnt</th>\n      <th>term</th>\n    </tr>\n  </thead>\n  <tbody>\n    <tr>\n      <th>0</th>\n      <td>0</td>\n      <td>35000.0</td>\n      <td>5</td>\n    </tr>\n    <tr>\n      <th>1</th>\n      <td>1</td>\n      <td>18000.0</td>\n      <td>5</td>\n    </tr>\n    <tr>\n      <th>2</th>\n      <td>2</td>\n      <td>12000.0</td>\n      <td>5</td>\n    </tr>\n    <tr>\n      <th>3</th>\n      <td>3</td>\n      <td>11000.0</td>\n      <td>3</td>\n    </tr>\n    <tr>\n      <th>4</th>\n      <td>4</td>\n      <td>3000.0</td>\n      <td>3</td>\n    </tr>\n    <tr>\n      <th>...</th>\n      <td>...</td>\n      <td>...</td>\n      <td>...</td>\n    </tr>\n    <tr>\n      <th>799995</th>\n      <td>799995</td>\n      <td>25000.0</td>\n      <td>3</td>\n    </tr>\n    <tr>\n      <th>799996</th>\n      <td>799996</td>\n      <td>17000.0</td>\n      <td>3</td>\n    </tr>\n    <tr>\n      <th>799997</th>\n      <td>799997</td>\n      <td>6000.0</td>\n      <td>3</td>\n    </tr>\n    <tr>\n      <th>799998</th>\n      <td>799998</td>\n      <td>19200.0</td>\n      <td>3</td>\n    </tr>\n    <tr>\n      <th>799999</th>\n      <td>799999</td>\n      <td>9000.0</td>\n      <td>3</td>\n    </tr>\n  </tbody>\n</table>\n<p>800000 rows × 3 columns</p>\n</div>"
     },
     "metadata": {},
     "execution_count": 23
    }
   ],
   "source": [
    "raw_data_train[['id', 'loanAmnt', 'term']]"
   ]
  },
  {
   "source": [
    "### 最大值 最小值 中位数 平均值 分位数"
   ],
   "cell_type": "markdown",
   "metadata": {}
  },
  {
   "cell_type": "code",
   "execution_count": 24,
   "metadata": {},
   "outputs": [
    {
     "output_type": "execute_result",
     "data": {
      "text/plain": [
       "            loanAmnt           term\n",
       "count  800000.000000  800000.000000\n",
       "mean    14416.818875       3.482745\n",
       "std      8716.086178       0.855832\n",
       "min       500.000000       3.000000\n",
       "25%      8000.000000       3.000000\n",
       "50%     12000.000000       3.000000\n",
       "75%     20000.000000       3.000000\n",
       "max     40000.000000       5.000000"
      ],
      "text/html": "<div>\n<style scoped>\n    .dataframe tbody tr th:only-of-type {\n        vertical-align: middle;\n    }\n\n    .dataframe tbody tr th {\n        vertical-align: top;\n    }\n\n    .dataframe thead th {\n        text-align: right;\n    }\n</style>\n<table border=\"1\" class=\"dataframe\">\n  <thead>\n    <tr style=\"text-align: right;\">\n      <th></th>\n      <th>loanAmnt</th>\n      <th>term</th>\n    </tr>\n  </thead>\n  <tbody>\n    <tr>\n      <th>count</th>\n      <td>800000.000000</td>\n      <td>800000.000000</td>\n    </tr>\n    <tr>\n      <th>mean</th>\n      <td>14416.818875</td>\n      <td>3.482745</td>\n    </tr>\n    <tr>\n      <th>std</th>\n      <td>8716.086178</td>\n      <td>0.855832</td>\n    </tr>\n    <tr>\n      <th>min</th>\n      <td>500.000000</td>\n      <td>3.000000</td>\n    </tr>\n    <tr>\n      <th>25%</th>\n      <td>8000.000000</td>\n      <td>3.000000</td>\n    </tr>\n    <tr>\n      <th>50%</th>\n      <td>12000.000000</td>\n      <td>3.000000</td>\n    </tr>\n    <tr>\n      <th>75%</th>\n      <td>20000.000000</td>\n      <td>3.000000</td>\n    </tr>\n    <tr>\n      <th>max</th>\n      <td>40000.000000</td>\n      <td>5.000000</td>\n    </tr>\n  </tbody>\n</table>\n</div>"
     },
     "metadata": {},
     "execution_count": 24
    }
   ],
   "source": [
    "raw_data_train[['loanAmnt', 'term']].describe()"
   ]
  },
  {
   "source": [
    "## 贷款利率 分期付款金额 贷款等级 贷款等级之子级"
   ],
   "cell_type": "markdown",
   "metadata": {}
  },
  {
   "cell_type": "code",
   "execution_count": 25,
   "metadata": {},
   "outputs": [
    {
     "output_type": "execute_result",
     "data": {
      "text/plain": [
       "            id  interestRate  installment grade subGrade\n",
       "0            0         19.52       917.97     E       E2\n",
       "1            1         18.49       461.90     D       D2\n",
       "2            2         16.99       298.17     D       D3\n",
       "3            3          7.26       340.96     A       A4\n",
       "4            4         12.99       101.07     C       C2\n",
       "...        ...           ...          ...   ...      ...\n",
       "799995  799995         14.49       860.41     C       C4\n",
       "799996  799996          7.90       531.94     A       A4\n",
       "799997  799997         13.33       203.12     C       C3\n",
       "799998  799998          6.92       592.14     A       A4\n",
       "799999  799999         11.06       294.91     B       B3\n",
       "\n",
       "[800000 rows x 5 columns]"
      ],
      "text/html": "<div>\n<style scoped>\n    .dataframe tbody tr th:only-of-type {\n        vertical-align: middle;\n    }\n\n    .dataframe tbody tr th {\n        vertical-align: top;\n    }\n\n    .dataframe thead th {\n        text-align: right;\n    }\n</style>\n<table border=\"1\" class=\"dataframe\">\n  <thead>\n    <tr style=\"text-align: right;\">\n      <th></th>\n      <th>id</th>\n      <th>interestRate</th>\n      <th>installment</th>\n      <th>grade</th>\n      <th>subGrade</th>\n    </tr>\n  </thead>\n  <tbody>\n    <tr>\n      <th>0</th>\n      <td>0</td>\n      <td>19.52</td>\n      <td>917.97</td>\n      <td>E</td>\n      <td>E2</td>\n    </tr>\n    <tr>\n      <th>1</th>\n      <td>1</td>\n      <td>18.49</td>\n      <td>461.90</td>\n      <td>D</td>\n      <td>D2</td>\n    </tr>\n    <tr>\n      <th>2</th>\n      <td>2</td>\n      <td>16.99</td>\n      <td>298.17</td>\n      <td>D</td>\n      <td>D3</td>\n    </tr>\n    <tr>\n      <th>3</th>\n      <td>3</td>\n      <td>7.26</td>\n      <td>340.96</td>\n      <td>A</td>\n      <td>A4</td>\n    </tr>\n    <tr>\n      <th>4</th>\n      <td>4</td>\n      <td>12.99</td>\n      <td>101.07</td>\n      <td>C</td>\n      <td>C2</td>\n    </tr>\n    <tr>\n      <th>...</th>\n      <td>...</td>\n      <td>...</td>\n      <td>...</td>\n      <td>...</td>\n      <td>...</td>\n    </tr>\n    <tr>\n      <th>799995</th>\n      <td>799995</td>\n      <td>14.49</td>\n      <td>860.41</td>\n      <td>C</td>\n      <td>C4</td>\n    </tr>\n    <tr>\n      <th>799996</th>\n      <td>799996</td>\n      <td>7.90</td>\n      <td>531.94</td>\n      <td>A</td>\n      <td>A4</td>\n    </tr>\n    <tr>\n      <th>799997</th>\n      <td>799997</td>\n      <td>13.33</td>\n      <td>203.12</td>\n      <td>C</td>\n      <td>C3</td>\n    </tr>\n    <tr>\n      <th>799998</th>\n      <td>799998</td>\n      <td>6.92</td>\n      <td>592.14</td>\n      <td>A</td>\n      <td>A4</td>\n    </tr>\n    <tr>\n      <th>799999</th>\n      <td>799999</td>\n      <td>11.06</td>\n      <td>294.91</td>\n      <td>B</td>\n      <td>B3</td>\n    </tr>\n  </tbody>\n</table>\n<p>800000 rows × 5 columns</p>\n</div>"
     },
     "metadata": {},
     "execution_count": 25
    }
   ],
   "source": [
    "raw_data_train[['id', 'interestRate', 'installment', 'grade', 'subGrade']]"
   ]
  },
  {
   "cell_type": "code",
   "execution_count": 26,
   "metadata": {},
   "outputs": [
    {
     "output_type": "execute_result",
     "data": {
      "text/plain": [
       "        interestRate    installment\n",
       "count  800000.000000  800000.000000\n",
       "mean       13.238391     437.947723\n",
       "std         4.765757     261.460393\n",
       "min         5.310000      15.690000\n",
       "25%         9.750000     248.450000\n",
       "50%        12.740000     375.135000\n",
       "75%        15.990000     580.710000\n",
       "max        30.990000    1715.420000"
      ],
      "text/html": "<div>\n<style scoped>\n    .dataframe tbody tr th:only-of-type {\n        vertical-align: middle;\n    }\n\n    .dataframe tbody tr th {\n        vertical-align: top;\n    }\n\n    .dataframe thead th {\n        text-align: right;\n    }\n</style>\n<table border=\"1\" class=\"dataframe\">\n  <thead>\n    <tr style=\"text-align: right;\">\n      <th></th>\n      <th>interestRate</th>\n      <th>installment</th>\n    </tr>\n  </thead>\n  <tbody>\n    <tr>\n      <th>count</th>\n      <td>800000.000000</td>\n      <td>800000.000000</td>\n    </tr>\n    <tr>\n      <th>mean</th>\n      <td>13.238391</td>\n      <td>437.947723</td>\n    </tr>\n    <tr>\n      <th>std</th>\n      <td>4.765757</td>\n      <td>261.460393</td>\n    </tr>\n    <tr>\n      <th>min</th>\n      <td>5.310000</td>\n      <td>15.690000</td>\n    </tr>\n    <tr>\n      <th>25%</th>\n      <td>9.750000</td>\n      <td>248.450000</td>\n    </tr>\n    <tr>\n      <th>50%</th>\n      <td>12.740000</td>\n      <td>375.135000</td>\n    </tr>\n    <tr>\n      <th>75%</th>\n      <td>15.990000</td>\n      <td>580.710000</td>\n    </tr>\n    <tr>\n      <th>max</th>\n      <td>30.990000</td>\n      <td>1715.420000</td>\n    </tr>\n  </tbody>\n</table>\n</div>"
     },
     "metadata": {},
     "execution_count": 26
    }
   ],
   "source": [
    "raw_data_train[['interestRate', 'installment']].describe()"
   ]
  },
  {
   "source": [
    "## 就业职称 就业年限 借款人在登记时提供的房屋所有权状况 年收入"
   ],
   "cell_type": "markdown",
   "metadata": {}
  },
  {
   "cell_type": "code",
   "execution_count": 27,
   "metadata": {},
   "outputs": [
    {
     "output_type": "execute_result",
     "data": {
      "text/plain": [
       "            id  employmentTitle employmentLength  homeOwnership  annualIncome\n",
       "0            0            320.0          2 years              2      110000.0\n",
       "1            1         219843.0          5 years              0       46000.0\n",
       "2            2          31698.0          8 years              0       74000.0\n",
       "3            3          46854.0        10+ years              1      118000.0\n",
       "4            4             54.0              NaN              1       29000.0\n",
       "...        ...              ...              ...            ...           ...\n",
       "799995  799995           2659.0          7 years              1       72000.0\n",
       "799996  799996          29205.0        10+ years              0       99000.0\n",
       "799997  799997           2582.0        10+ years              1       65000.0\n",
       "799998  799998            151.0        10+ years              0       96000.0\n",
       "799999  799999             13.0          5 years              0      120000.0\n",
       "\n",
       "[800000 rows x 5 columns]"
      ],
      "text/html": "<div>\n<style scoped>\n    .dataframe tbody tr th:only-of-type {\n        vertical-align: middle;\n    }\n\n    .dataframe tbody tr th {\n        vertical-align: top;\n    }\n\n    .dataframe thead th {\n        text-align: right;\n    }\n</style>\n<table border=\"1\" class=\"dataframe\">\n  <thead>\n    <tr style=\"text-align: right;\">\n      <th></th>\n      <th>id</th>\n      <th>employmentTitle</th>\n      <th>employmentLength</th>\n      <th>homeOwnership</th>\n      <th>annualIncome</th>\n    </tr>\n  </thead>\n  <tbody>\n    <tr>\n      <th>0</th>\n      <td>0</td>\n      <td>320.0</td>\n      <td>2 years</td>\n      <td>2</td>\n      <td>110000.0</td>\n    </tr>\n    <tr>\n      <th>1</th>\n      <td>1</td>\n      <td>219843.0</td>\n      <td>5 years</td>\n      <td>0</td>\n      <td>46000.0</td>\n    </tr>\n    <tr>\n      <th>2</th>\n      <td>2</td>\n      <td>31698.0</td>\n      <td>8 years</td>\n      <td>0</td>\n      <td>74000.0</td>\n    </tr>\n    <tr>\n      <th>3</th>\n      <td>3</td>\n      <td>46854.0</td>\n      <td>10+ years</td>\n      <td>1</td>\n      <td>118000.0</td>\n    </tr>\n    <tr>\n      <th>4</th>\n      <td>4</td>\n      <td>54.0</td>\n      <td>NaN</td>\n      <td>1</td>\n      <td>29000.0</td>\n    </tr>\n    <tr>\n      <th>...</th>\n      <td>...</td>\n      <td>...</td>\n      <td>...</td>\n      <td>...</td>\n      <td>...</td>\n    </tr>\n    <tr>\n      <th>799995</th>\n      <td>799995</td>\n      <td>2659.0</td>\n      <td>7 years</td>\n      <td>1</td>\n      <td>72000.0</td>\n    </tr>\n    <tr>\n      <th>799996</th>\n      <td>799996</td>\n      <td>29205.0</td>\n      <td>10+ years</td>\n      <td>0</td>\n      <td>99000.0</td>\n    </tr>\n    <tr>\n      <th>799997</th>\n      <td>799997</td>\n      <td>2582.0</td>\n      <td>10+ years</td>\n      <td>1</td>\n      <td>65000.0</td>\n    </tr>\n    <tr>\n      <th>799998</th>\n      <td>799998</td>\n      <td>151.0</td>\n      <td>10+ years</td>\n      <td>0</td>\n      <td>96000.0</td>\n    </tr>\n    <tr>\n      <th>799999</th>\n      <td>799999</td>\n      <td>13.0</td>\n      <td>5 years</td>\n      <td>0</td>\n      <td>120000.0</td>\n    </tr>\n  </tbody>\n</table>\n<p>800000 rows × 5 columns</p>\n</div>"
     },
     "metadata": {},
     "execution_count": 27
    }
   ],
   "source": [
    "raw_data_train[['id', 'employmentTitle', 'employmentLength', 'homeOwnership', 'annualIncome']]"
   ]
  },
  {
   "cell_type": "code",
   "execution_count": 28,
   "metadata": {},
   "outputs": [],
   "source": [
    "df_tmp = raw_data_train['employmentLength'].str.split(expand=True)"
   ]
  },
  {
   "cell_type": "code",
   "execution_count": 31,
   "metadata": {},
   "outputs": [],
   "source": [
    "raw_data_train['employmentLength'] = df_tmp[0]"
   ]
  },
  {
   "cell_type": "code",
   "execution_count": 33,
   "metadata": {},
   "outputs": [],
   "source": [
    "raw_data_train['employmentLength'].fillna(-1, inplace=True)"
   ]
  },
  {
   "cell_type": "code",
   "execution_count": 35,
   "metadata": {},
   "outputs": [
    {
     "output_type": "execute_result",
     "data": {
      "text/plain": [
       "            id  employmentTitle employmentLength  homeOwnership  annualIncome\n",
       "0            0            320.0                2              2      110000.0\n",
       "1            1         219843.0                5              0       46000.0\n",
       "2            2          31698.0                8              0       74000.0\n",
       "3            3          46854.0              10+              1      118000.0\n",
       "4            4             54.0               -1              1       29000.0\n",
       "...        ...              ...              ...            ...           ...\n",
       "799995  799995           2659.0                7              1       72000.0\n",
       "799996  799996          29205.0              10+              0       99000.0\n",
       "799997  799997           2582.0              10+              1       65000.0\n",
       "799998  799998            151.0              10+              0       96000.0\n",
       "799999  799999             13.0                5              0      120000.0\n",
       "\n",
       "[800000 rows x 5 columns]"
      ],
      "text/html": "<div>\n<style scoped>\n    .dataframe tbody tr th:only-of-type {\n        vertical-align: middle;\n    }\n\n    .dataframe tbody tr th {\n        vertical-align: top;\n    }\n\n    .dataframe thead th {\n        text-align: right;\n    }\n</style>\n<table border=\"1\" class=\"dataframe\">\n  <thead>\n    <tr style=\"text-align: right;\">\n      <th></th>\n      <th>id</th>\n      <th>employmentTitle</th>\n      <th>employmentLength</th>\n      <th>homeOwnership</th>\n      <th>annualIncome</th>\n    </tr>\n  </thead>\n  <tbody>\n    <tr>\n      <th>0</th>\n      <td>0</td>\n      <td>320.0</td>\n      <td>2</td>\n      <td>2</td>\n      <td>110000.0</td>\n    </tr>\n    <tr>\n      <th>1</th>\n      <td>1</td>\n      <td>219843.0</td>\n      <td>5</td>\n      <td>0</td>\n      <td>46000.0</td>\n    </tr>\n    <tr>\n      <th>2</th>\n      <td>2</td>\n      <td>31698.0</td>\n      <td>8</td>\n      <td>0</td>\n      <td>74000.0</td>\n    </tr>\n    <tr>\n      <th>3</th>\n      <td>3</td>\n      <td>46854.0</td>\n      <td>10+</td>\n      <td>1</td>\n      <td>118000.0</td>\n    </tr>\n    <tr>\n      <th>4</th>\n      <td>4</td>\n      <td>54.0</td>\n      <td>-1</td>\n      <td>1</td>\n      <td>29000.0</td>\n    </tr>\n    <tr>\n      <th>...</th>\n      <td>...</td>\n      <td>...</td>\n      <td>...</td>\n      <td>...</td>\n      <td>...</td>\n    </tr>\n    <tr>\n      <th>799995</th>\n      <td>799995</td>\n      <td>2659.0</td>\n      <td>7</td>\n      <td>1</td>\n      <td>72000.0</td>\n    </tr>\n    <tr>\n      <th>799996</th>\n      <td>799996</td>\n      <td>29205.0</td>\n      <td>10+</td>\n      <td>0</td>\n      <td>99000.0</td>\n    </tr>\n    <tr>\n      <th>799997</th>\n      <td>799997</td>\n      <td>2582.0</td>\n      <td>10+</td>\n      <td>1</td>\n      <td>65000.0</td>\n    </tr>\n    <tr>\n      <th>799998</th>\n      <td>799998</td>\n      <td>151.0</td>\n      <td>10+</td>\n      <td>0</td>\n      <td>96000.0</td>\n    </tr>\n    <tr>\n      <th>799999</th>\n      <td>799999</td>\n      <td>13.0</td>\n      <td>5</td>\n      <td>0</td>\n      <td>120000.0</td>\n    </tr>\n  </tbody>\n</table>\n<p>800000 rows × 5 columns</p>\n</div>"
     },
     "metadata": {},
     "execution_count": 35
    }
   ],
   "source": [
    "raw_data_train[['id', 'employmentTitle', 'employmentLength', 'homeOwnership', 'annualIncome']]"
   ]
  },
  {
   "cell_type": "code",
   "execution_count": 36,
   "metadata": {},
   "outputs": [
    {
     "output_type": "execute_result",
     "data": {
      "text/plain": [
       "       employmentTitle  homeOwnership  annualIncome\n",
       "count    799999.000000  800000.000000  8.000000e+05\n",
       "mean      72005.351714       0.614213  7.613391e+04\n",
       "std      106585.640204       0.675749  6.894751e+04\n",
       "min           0.000000       0.000000  0.000000e+00\n",
       "25%         427.000000       0.000000  4.560000e+04\n",
       "50%        7755.000000       1.000000  6.500000e+04\n",
       "75%      117663.500000       1.000000  9.000000e+04\n",
       "max      378351.000000       5.000000  1.099920e+07"
      ],
      "text/html": "<div>\n<style scoped>\n    .dataframe tbody tr th:only-of-type {\n        vertical-align: middle;\n    }\n\n    .dataframe tbody tr th {\n        vertical-align: top;\n    }\n\n    .dataframe thead th {\n        text-align: right;\n    }\n</style>\n<table border=\"1\" class=\"dataframe\">\n  <thead>\n    <tr style=\"text-align: right;\">\n      <th></th>\n      <th>employmentTitle</th>\n      <th>homeOwnership</th>\n      <th>annualIncome</th>\n    </tr>\n  </thead>\n  <tbody>\n    <tr>\n      <th>count</th>\n      <td>799999.000000</td>\n      <td>800000.000000</td>\n      <td>8.000000e+05</td>\n    </tr>\n    <tr>\n      <th>mean</th>\n      <td>72005.351714</td>\n      <td>0.614213</td>\n      <td>7.613391e+04</td>\n    </tr>\n    <tr>\n      <th>std</th>\n      <td>106585.640204</td>\n      <td>0.675749</td>\n      <td>6.894751e+04</td>\n    </tr>\n    <tr>\n      <th>min</th>\n      <td>0.000000</td>\n      <td>0.000000</td>\n      <td>0.000000e+00</td>\n    </tr>\n    <tr>\n      <th>25%</th>\n      <td>427.000000</td>\n      <td>0.000000</td>\n      <td>4.560000e+04</td>\n    </tr>\n    <tr>\n      <th>50%</th>\n      <td>7755.000000</td>\n      <td>1.000000</td>\n      <td>6.500000e+04</td>\n    </tr>\n    <tr>\n      <th>75%</th>\n      <td>117663.500000</td>\n      <td>1.000000</td>\n      <td>9.000000e+04</td>\n    </tr>\n    <tr>\n      <th>max</th>\n      <td>378351.000000</td>\n      <td>5.000000</td>\n      <td>1.099920e+07</td>\n    </tr>\n  </tbody>\n</table>\n</div>"
     },
     "metadata": {},
     "execution_count": 36
    }
   ],
   "source": [
    "raw_data_train[['employmentTitle', 'employmentLength', 'homeOwnership', 'annualIncome']].describe()"
   ]
  },
  {
   "source": [
    "## 验证状态 贷款发放的月份 贷款用途类别"
   ],
   "cell_type": "markdown",
   "metadata": {}
  },
  {
   "cell_type": "code",
   "execution_count": 38,
   "metadata": {},
   "outputs": [
    {
     "output_type": "execute_result",
     "data": {
      "text/plain": [
       "            id  verificationStatus   issueDate  purpose\n",
       "0            0                   2  2014-07-01        1\n",
       "1            1                   2  2012-08-01        0\n",
       "2            2                   2  2015-10-01        0\n",
       "3            3                   1  2015-08-01        4\n",
       "4            4                   2  2016-03-01       10\n",
       "...        ...                 ...         ...      ...\n",
       "799995  799995                   0  2016-07-01        0\n",
       "799996  799996                   2  2013-04-01        4\n",
       "799997  799997                   2  2015-10-01        0\n",
       "799998  799998                   2  2015-02-01        4\n",
       "799999  799999                   0  2018-08-01        4\n",
       "\n",
       "[800000 rows x 4 columns]"
      ],
      "text/html": "<div>\n<style scoped>\n    .dataframe tbody tr th:only-of-type {\n        vertical-align: middle;\n    }\n\n    .dataframe tbody tr th {\n        vertical-align: top;\n    }\n\n    .dataframe thead th {\n        text-align: right;\n    }\n</style>\n<table border=\"1\" class=\"dataframe\">\n  <thead>\n    <tr style=\"text-align: right;\">\n      <th></th>\n      <th>id</th>\n      <th>verificationStatus</th>\n      <th>issueDate</th>\n      <th>purpose</th>\n    </tr>\n  </thead>\n  <tbody>\n    <tr>\n      <th>0</th>\n      <td>0</td>\n      <td>2</td>\n      <td>2014-07-01</td>\n      <td>1</td>\n    </tr>\n    <tr>\n      <th>1</th>\n      <td>1</td>\n      <td>2</td>\n      <td>2012-08-01</td>\n      <td>0</td>\n    </tr>\n    <tr>\n      <th>2</th>\n      <td>2</td>\n      <td>2</td>\n      <td>2015-10-01</td>\n      <td>0</td>\n    </tr>\n    <tr>\n      <th>3</th>\n      <td>3</td>\n      <td>1</td>\n      <td>2015-08-01</td>\n      <td>4</td>\n    </tr>\n    <tr>\n      <th>4</th>\n      <td>4</td>\n      <td>2</td>\n      <td>2016-03-01</td>\n      <td>10</td>\n    </tr>\n    <tr>\n      <th>...</th>\n      <td>...</td>\n      <td>...</td>\n      <td>...</td>\n      <td>...</td>\n    </tr>\n    <tr>\n      <th>799995</th>\n      <td>799995</td>\n      <td>0</td>\n      <td>2016-07-01</td>\n      <td>0</td>\n    </tr>\n    <tr>\n      <th>799996</th>\n      <td>799996</td>\n      <td>2</td>\n      <td>2013-04-01</td>\n      <td>4</td>\n    </tr>\n    <tr>\n      <th>799997</th>\n      <td>799997</td>\n      <td>2</td>\n      <td>2015-10-01</td>\n      <td>0</td>\n    </tr>\n    <tr>\n      <th>799998</th>\n      <td>799998</td>\n      <td>2</td>\n      <td>2015-02-01</td>\n      <td>4</td>\n    </tr>\n    <tr>\n      <th>799999</th>\n      <td>799999</td>\n      <td>0</td>\n      <td>2018-08-01</td>\n      <td>4</td>\n    </tr>\n  </tbody>\n</table>\n<p>800000 rows × 4 columns</p>\n</div>"
     },
     "metadata": {},
     "execution_count": 38
    }
   ],
   "source": [
    "raw_data_train[['id', 'verificationStatus', 'issueDate', 'purpose']]"
   ]
  },
  {
   "source": [
    "## 邮政编码 地区编码 "
   ],
   "cell_type": "markdown",
   "metadata": {}
  },
  {
   "cell_type": "code",
   "execution_count": 39,
   "metadata": {},
   "outputs": [
    {
     "output_type": "execute_result",
     "data": {
      "text/plain": [
       "            id  postCode  regionCode\n",
       "0            0     137.0          32\n",
       "1            1     156.0          18\n",
       "2            2     337.0          14\n",
       "3            3     148.0          11\n",
       "4            4     301.0          21\n",
       "...        ...       ...         ...\n",
       "799995  799995     242.0           8\n",
       "799996  799996     563.0          10\n",
       "799997  799997      47.0          17\n",
       "799998  799998      34.0          18\n",
       "799999  799999      62.0          13\n",
       "\n",
       "[800000 rows x 3 columns]"
      ],
      "text/html": "<div>\n<style scoped>\n    .dataframe tbody tr th:only-of-type {\n        vertical-align: middle;\n    }\n\n    .dataframe tbody tr th {\n        vertical-align: top;\n    }\n\n    .dataframe thead th {\n        text-align: right;\n    }\n</style>\n<table border=\"1\" class=\"dataframe\">\n  <thead>\n    <tr style=\"text-align: right;\">\n      <th></th>\n      <th>id</th>\n      <th>postCode</th>\n      <th>regionCode</th>\n    </tr>\n  </thead>\n  <tbody>\n    <tr>\n      <th>0</th>\n      <td>0</td>\n      <td>137.0</td>\n      <td>32</td>\n    </tr>\n    <tr>\n      <th>1</th>\n      <td>1</td>\n      <td>156.0</td>\n      <td>18</td>\n    </tr>\n    <tr>\n      <th>2</th>\n      <td>2</td>\n      <td>337.0</td>\n      <td>14</td>\n    </tr>\n    <tr>\n      <th>3</th>\n      <td>3</td>\n      <td>148.0</td>\n      <td>11</td>\n    </tr>\n    <tr>\n      <th>4</th>\n      <td>4</td>\n      <td>301.0</td>\n      <td>21</td>\n    </tr>\n    <tr>\n      <th>...</th>\n      <td>...</td>\n      <td>...</td>\n      <td>...</td>\n    </tr>\n    <tr>\n      <th>799995</th>\n      <td>799995</td>\n      <td>242.0</td>\n      <td>8</td>\n    </tr>\n    <tr>\n      <th>799996</th>\n      <td>799996</td>\n      <td>563.0</td>\n      <td>10</td>\n    </tr>\n    <tr>\n      <th>799997</th>\n      <td>799997</td>\n      <td>47.0</td>\n      <td>17</td>\n    </tr>\n    <tr>\n      <th>799998</th>\n      <td>799998</td>\n      <td>34.0</td>\n      <td>18</td>\n    </tr>\n    <tr>\n      <th>799999</th>\n      <td>799999</td>\n      <td>62.0</td>\n      <td>13</td>\n    </tr>\n  </tbody>\n</table>\n<p>800000 rows × 3 columns</p>\n</div>"
     },
     "metadata": {},
     "execution_count": 39
    }
   ],
   "source": [
    "# postCode int or string\n",
    "raw_data_train[['id', 'postCode', 'regionCode']]"
   ]
  },
  {
   "source": [
    "## 债务收入比 多种违约记录"
   ],
   "cell_type": "markdown",
   "metadata": {}
  },
  {
   "cell_type": "code",
   "execution_count": 41,
   "metadata": {},
   "outputs": [
    {
     "output_type": "execute_result",
     "data": {
      "text/plain": [
       "            id    dti  delinquency_2years  ficoRangeLow  ficoRangeHigh  \\\n",
       "0            0  17.05                 0.0         730.0          734.0   \n",
       "1            1  27.83                 0.0         700.0          704.0   \n",
       "2            2  22.77                 0.0         675.0          679.0   \n",
       "3            3  17.21                 0.0         685.0          689.0   \n",
       "4            4  32.16                 0.0         690.0          694.0   \n",
       "...        ...    ...                 ...           ...            ...   \n",
       "799995  799995  19.03                 0.0         710.0          714.0   \n",
       "799996  799996  15.72                 1.0         720.0          724.0   \n",
       "799997  799997  12.11                 1.0         670.0          674.0   \n",
       "799998  799998  29.25                 0.0         675.0          679.0   \n",
       "799999  799999   8.99                 0.0         695.0          699.0   \n",
       "\n",
       "        openAcc  pubRec  pubRecBankruptcies  \n",
       "0           7.0     0.0                 0.0  \n",
       "1          13.0     0.0                 0.0  \n",
       "2          11.0     0.0                 0.0  \n",
       "3           9.0     0.0                 0.0  \n",
       "4          12.0     0.0                 0.0  \n",
       "...         ...     ...                 ...  \n",
       "799995     14.0     0.0                 0.0  \n",
       "799996      7.0     0.0                 0.0  \n",
       "799997      5.0     0.0                 0.0  \n",
       "799998     16.0     0.0                 0.0  \n",
       "799999      7.0     0.0                 0.0  \n",
       "\n",
       "[800000 rows x 8 columns]"
      ],
      "text/html": "<div>\n<style scoped>\n    .dataframe tbody tr th:only-of-type {\n        vertical-align: middle;\n    }\n\n    .dataframe tbody tr th {\n        vertical-align: top;\n    }\n\n    .dataframe thead th {\n        text-align: right;\n    }\n</style>\n<table border=\"1\" class=\"dataframe\">\n  <thead>\n    <tr style=\"text-align: right;\">\n      <th></th>\n      <th>id</th>\n      <th>dti</th>\n      <th>delinquency_2years</th>\n      <th>ficoRangeLow</th>\n      <th>ficoRangeHigh</th>\n      <th>openAcc</th>\n      <th>pubRec</th>\n      <th>pubRecBankruptcies</th>\n    </tr>\n  </thead>\n  <tbody>\n    <tr>\n      <th>0</th>\n      <td>0</td>\n      <td>17.05</td>\n      <td>0.0</td>\n      <td>730.0</td>\n      <td>734.0</td>\n      <td>7.0</td>\n      <td>0.0</td>\n      <td>0.0</td>\n    </tr>\n    <tr>\n      <th>1</th>\n      <td>1</td>\n      <td>27.83</td>\n      <td>0.0</td>\n      <td>700.0</td>\n      <td>704.0</td>\n      <td>13.0</td>\n      <td>0.0</td>\n      <td>0.0</td>\n    </tr>\n    <tr>\n      <th>2</th>\n      <td>2</td>\n      <td>22.77</td>\n      <td>0.0</td>\n      <td>675.0</td>\n      <td>679.0</td>\n      <td>11.0</td>\n      <td>0.0</td>\n      <td>0.0</td>\n    </tr>\n    <tr>\n      <th>3</th>\n      <td>3</td>\n      <td>17.21</td>\n      <td>0.0</td>\n      <td>685.0</td>\n      <td>689.0</td>\n      <td>9.0</td>\n      <td>0.0</td>\n      <td>0.0</td>\n    </tr>\n    <tr>\n      <th>4</th>\n      <td>4</td>\n      <td>32.16</td>\n      <td>0.0</td>\n      <td>690.0</td>\n      <td>694.0</td>\n      <td>12.0</td>\n      <td>0.0</td>\n      <td>0.0</td>\n    </tr>\n    <tr>\n      <th>...</th>\n      <td>...</td>\n      <td>...</td>\n      <td>...</td>\n      <td>...</td>\n      <td>...</td>\n      <td>...</td>\n      <td>...</td>\n      <td>...</td>\n    </tr>\n    <tr>\n      <th>799995</th>\n      <td>799995</td>\n      <td>19.03</td>\n      <td>0.0</td>\n      <td>710.0</td>\n      <td>714.0</td>\n      <td>14.0</td>\n      <td>0.0</td>\n      <td>0.0</td>\n    </tr>\n    <tr>\n      <th>799996</th>\n      <td>799996</td>\n      <td>15.72</td>\n      <td>1.0</td>\n      <td>720.0</td>\n      <td>724.0</td>\n      <td>7.0</td>\n      <td>0.0</td>\n      <td>0.0</td>\n    </tr>\n    <tr>\n      <th>799997</th>\n      <td>799997</td>\n      <td>12.11</td>\n      <td>1.0</td>\n      <td>670.0</td>\n      <td>674.0</td>\n      <td>5.0</td>\n      <td>0.0</td>\n      <td>0.0</td>\n    </tr>\n    <tr>\n      <th>799998</th>\n      <td>799998</td>\n      <td>29.25</td>\n      <td>0.0</td>\n      <td>675.0</td>\n      <td>679.0</td>\n      <td>16.0</td>\n      <td>0.0</td>\n      <td>0.0</td>\n    </tr>\n    <tr>\n      <th>799999</th>\n      <td>799999</td>\n      <td>8.99</td>\n      <td>0.0</td>\n      <td>695.0</td>\n      <td>699.0</td>\n      <td>7.0</td>\n      <td>0.0</td>\n      <td>0.0</td>\n    </tr>\n  </tbody>\n</table>\n<p>800000 rows × 8 columns</p>\n</div>"
     },
     "metadata": {},
     "execution_count": 41
    }
   ],
   "source": [
    "raw_data_train[['id', 'dti', 'delinquency_2years', 'ficoRangeLow', 'ficoRangeHigh', 'openAcc', 'pubRec', 'pubRecBankruptcies']]"
   ]
  },
  {
   "cell_type": "code",
   "execution_count": 42,
   "metadata": {},
   "outputs": [
    {
     "output_type": "execute_result",
     "data": {
      "text/plain": [
       "                 dti  delinquency_2years   ficoRangeLow  ficoRangeHigh  \\\n",
       "count  799761.000000       800000.000000  800000.000000  800000.000000   \n",
       "mean       18.284557            0.318239     696.204081     700.204226   \n",
       "std        11.150155            0.880325      31.865995      31.866674   \n",
       "min        -1.000000            0.000000     630.000000     634.000000   \n",
       "25%        11.790000            0.000000     670.000000     674.000000   \n",
       "50%        17.610000            0.000000     690.000000     694.000000   \n",
       "75%        24.060000            0.000000     710.000000     714.000000   \n",
       "max       999.000000           39.000000     845.000000     850.000000   \n",
       "\n",
       "             openAcc         pubRec  pubRecBankruptcies  \n",
       "count  800000.000000  800000.000000       799595.000000  \n",
       "mean       11.598020       0.214915            0.134163  \n",
       "std         5.475286       0.606467            0.377471  \n",
       "min         0.000000       0.000000            0.000000  \n",
       "25%         8.000000       0.000000            0.000000  \n",
       "50%        11.000000       0.000000            0.000000  \n",
       "75%        14.000000       0.000000            0.000000  \n",
       "max        86.000000      86.000000           12.000000  "
      ],
      "text/html": "<div>\n<style scoped>\n    .dataframe tbody tr th:only-of-type {\n        vertical-align: middle;\n    }\n\n    .dataframe tbody tr th {\n        vertical-align: top;\n    }\n\n    .dataframe thead th {\n        text-align: right;\n    }\n</style>\n<table border=\"1\" class=\"dataframe\">\n  <thead>\n    <tr style=\"text-align: right;\">\n      <th></th>\n      <th>dti</th>\n      <th>delinquency_2years</th>\n      <th>ficoRangeLow</th>\n      <th>ficoRangeHigh</th>\n      <th>openAcc</th>\n      <th>pubRec</th>\n      <th>pubRecBankruptcies</th>\n    </tr>\n  </thead>\n  <tbody>\n    <tr>\n      <th>count</th>\n      <td>799761.000000</td>\n      <td>800000.000000</td>\n      <td>800000.000000</td>\n      <td>800000.000000</td>\n      <td>800000.000000</td>\n      <td>800000.000000</td>\n      <td>799595.000000</td>\n    </tr>\n    <tr>\n      <th>mean</th>\n      <td>18.284557</td>\n      <td>0.318239</td>\n      <td>696.204081</td>\n      <td>700.204226</td>\n      <td>11.598020</td>\n      <td>0.214915</td>\n      <td>0.134163</td>\n    </tr>\n    <tr>\n      <th>std</th>\n      <td>11.150155</td>\n      <td>0.880325</td>\n      <td>31.865995</td>\n      <td>31.866674</td>\n      <td>5.475286</td>\n      <td>0.606467</td>\n      <td>0.377471</td>\n    </tr>\n    <tr>\n      <th>min</th>\n      <td>-1.000000</td>\n      <td>0.000000</td>\n      <td>630.000000</td>\n      <td>634.000000</td>\n      <td>0.000000</td>\n      <td>0.000000</td>\n      <td>0.000000</td>\n    </tr>\n    <tr>\n      <th>25%</th>\n      <td>11.790000</td>\n      <td>0.000000</td>\n      <td>670.000000</td>\n      <td>674.000000</td>\n      <td>8.000000</td>\n      <td>0.000000</td>\n      <td>0.000000</td>\n    </tr>\n    <tr>\n      <th>50%</th>\n      <td>17.610000</td>\n      <td>0.000000</td>\n      <td>690.000000</td>\n      <td>694.000000</td>\n      <td>11.000000</td>\n      <td>0.000000</td>\n      <td>0.000000</td>\n    </tr>\n    <tr>\n      <th>75%</th>\n      <td>24.060000</td>\n      <td>0.000000</td>\n      <td>710.000000</td>\n      <td>714.000000</td>\n      <td>14.000000</td>\n      <td>0.000000</td>\n      <td>0.000000</td>\n    </tr>\n    <tr>\n      <th>max</th>\n      <td>999.000000</td>\n      <td>39.000000</td>\n      <td>845.000000</td>\n      <td>850.000000</td>\n      <td>86.000000</td>\n      <td>86.000000</td>\n      <td>12.000000</td>\n    </tr>\n  </tbody>\n</table>\n</div>"
     },
     "metadata": {},
     "execution_count": 42
    }
   ],
   "source": [
    "raw_data_train[['dti', 'delinquency_2years', 'ficoRangeLow', 'ficoRangeHigh', 'openAcc', 'pubRec', 'pubRecBankruptcies']].describe()"
   ]
  },
  {
   "source": [
    "## 信贷周转余额合计 循环额度利用率 借款人信用额度总数"
   ],
   "cell_type": "markdown",
   "metadata": {}
  },
  {
   "cell_type": "code",
   "execution_count": 44,
   "metadata": {},
   "outputs": [
    {
     "output_type": "execute_result",
     "data": {
      "text/plain": [
       "            id  revolBal  revolUtil  totalAcc\n",
       "0            0   24178.0       48.9      27.0\n",
       "1            1   15096.0       38.9      18.0\n",
       "2            2    4606.0       51.8      27.0\n",
       "3            3    9948.0       52.6      28.0\n",
       "4            4    2942.0       32.0      27.0\n",
       "...        ...       ...        ...       ...\n",
       "799995  799995    9933.0       46.4      15.0\n",
       "799996  799996   20472.0       98.4      42.0\n",
       "799997  799997    6381.0       51.9      36.0\n",
       "799998  799998   69702.0       61.3      37.0\n",
       "799999  799999    8420.0       72.6      13.0\n",
       "\n",
       "[800000 rows x 4 columns]"
      ],
      "text/html": "<div>\n<style scoped>\n    .dataframe tbody tr th:only-of-type {\n        vertical-align: middle;\n    }\n\n    .dataframe tbody tr th {\n        vertical-align: top;\n    }\n\n    .dataframe thead th {\n        text-align: right;\n    }\n</style>\n<table border=\"1\" class=\"dataframe\">\n  <thead>\n    <tr style=\"text-align: right;\">\n      <th></th>\n      <th>id</th>\n      <th>revolBal</th>\n      <th>revolUtil</th>\n      <th>totalAcc</th>\n    </tr>\n  </thead>\n  <tbody>\n    <tr>\n      <th>0</th>\n      <td>0</td>\n      <td>24178.0</td>\n      <td>48.9</td>\n      <td>27.0</td>\n    </tr>\n    <tr>\n      <th>1</th>\n      <td>1</td>\n      <td>15096.0</td>\n      <td>38.9</td>\n      <td>18.0</td>\n    </tr>\n    <tr>\n      <th>2</th>\n      <td>2</td>\n      <td>4606.0</td>\n      <td>51.8</td>\n      <td>27.0</td>\n    </tr>\n    <tr>\n      <th>3</th>\n      <td>3</td>\n      <td>9948.0</td>\n      <td>52.6</td>\n      <td>28.0</td>\n    </tr>\n    <tr>\n      <th>4</th>\n      <td>4</td>\n      <td>2942.0</td>\n      <td>32.0</td>\n      <td>27.0</td>\n    </tr>\n    <tr>\n      <th>...</th>\n      <td>...</td>\n      <td>...</td>\n      <td>...</td>\n      <td>...</td>\n    </tr>\n    <tr>\n      <th>799995</th>\n      <td>799995</td>\n      <td>9933.0</td>\n      <td>46.4</td>\n      <td>15.0</td>\n    </tr>\n    <tr>\n      <th>799996</th>\n      <td>799996</td>\n      <td>20472.0</td>\n      <td>98.4</td>\n      <td>42.0</td>\n    </tr>\n    <tr>\n      <th>799997</th>\n      <td>799997</td>\n      <td>6381.0</td>\n      <td>51.9</td>\n      <td>36.0</td>\n    </tr>\n    <tr>\n      <th>799998</th>\n      <td>799998</td>\n      <td>69702.0</td>\n      <td>61.3</td>\n      <td>37.0</td>\n    </tr>\n    <tr>\n      <th>799999</th>\n      <td>799999</td>\n      <td>8420.0</td>\n      <td>72.6</td>\n      <td>13.0</td>\n    </tr>\n  </tbody>\n</table>\n<p>800000 rows × 4 columns</p>\n</div>"
     },
     "metadata": {},
     "execution_count": 44
    }
   ],
   "source": [
    "raw_data_train[['id', 'revolBal', 'revolUtil', 'totalAcc']]"
   ]
  },
  {
   "cell_type": "code",
   "execution_count": 45,
   "metadata": {},
   "outputs": [
    {
     "output_type": "execute_result",
     "data": {
      "text/plain": [
       "           revolBal      revolUtil       totalAcc\n",
       "count  8.000000e+05  799469.000000  800000.000000\n",
       "mean   1.622871e+04      51.790734      24.998861\n",
       "std    2.245802e+04      24.516126      11.999201\n",
       "min    0.000000e+00       0.000000       2.000000\n",
       "25%    5.944000e+03      33.400000      16.000000\n",
       "50%    1.113200e+04      52.100000      23.000000\n",
       "75%    1.973400e+04      70.700000      32.000000\n",
       "max    2.904836e+06     892.300000     162.000000"
      ],
      "text/html": "<div>\n<style scoped>\n    .dataframe tbody tr th:only-of-type {\n        vertical-align: middle;\n    }\n\n    .dataframe tbody tr th {\n        vertical-align: top;\n    }\n\n    .dataframe thead th {\n        text-align: right;\n    }\n</style>\n<table border=\"1\" class=\"dataframe\">\n  <thead>\n    <tr style=\"text-align: right;\">\n      <th></th>\n      <th>revolBal</th>\n      <th>revolUtil</th>\n      <th>totalAcc</th>\n    </tr>\n  </thead>\n  <tbody>\n    <tr>\n      <th>count</th>\n      <td>8.000000e+05</td>\n      <td>799469.000000</td>\n      <td>800000.000000</td>\n    </tr>\n    <tr>\n      <th>mean</th>\n      <td>1.622871e+04</td>\n      <td>51.790734</td>\n      <td>24.998861</td>\n    </tr>\n    <tr>\n      <th>std</th>\n      <td>2.245802e+04</td>\n      <td>24.516126</td>\n      <td>11.999201</td>\n    </tr>\n    <tr>\n      <th>min</th>\n      <td>0.000000e+00</td>\n      <td>0.000000</td>\n      <td>2.000000</td>\n    </tr>\n    <tr>\n      <th>25%</th>\n      <td>5.944000e+03</td>\n      <td>33.400000</td>\n      <td>16.000000</td>\n    </tr>\n    <tr>\n      <th>50%</th>\n      <td>1.113200e+04</td>\n      <td>52.100000</td>\n      <td>23.000000</td>\n    </tr>\n    <tr>\n      <th>75%</th>\n      <td>1.973400e+04</td>\n      <td>70.700000</td>\n      <td>32.000000</td>\n    </tr>\n    <tr>\n      <th>max</th>\n      <td>2.904836e+06</td>\n      <td>892.300000</td>\n      <td>162.000000</td>\n    </tr>\n  </tbody>\n</table>\n</div>"
     },
     "metadata": {},
     "execution_count": 45
    }
   ],
   "source": [
    "raw_data_train[['revolBal', 'revolUtil', 'totalAcc']].describe()"
   ]
  },
  {
   "source": [
    "## 贷款初始列表状态 是否联合申请 信用额度开立月份 借款人贷款名称 公开策略代码"
   ],
   "cell_type": "markdown",
   "metadata": {}
  },
  {
   "cell_type": "code",
   "execution_count": 46,
   "metadata": {},
   "outputs": [
    {
     "output_type": "execute_result",
     "data": {
      "text/plain": [
       "            id  initialListStatus  applicationType earliesCreditLine    title  \\\n",
       "0            0                  0                0          Aug-2001      1.0   \n",
       "1            1                  1                0          May-2002   1723.0   \n",
       "2            2                  0                0          May-2006      0.0   \n",
       "3            3                  1                0          May-1999      4.0   \n",
       "4            4                  0                0          Aug-1977     11.0   \n",
       "...        ...                ...              ...               ...      ...   \n",
       "799995  799995                  1                0          Aug-2011      0.0   \n",
       "799996  799996                  0                0          May-1989  33369.0   \n",
       "799997  799997                  1                0          Jul-2002      0.0   \n",
       "799998  799998                  1                0          Jan-1994      4.0   \n",
       "799999  799999                  0                0          Feb-2002      4.0   \n",
       "\n",
       "        policyCode  \n",
       "0              1.0  \n",
       "1              1.0  \n",
       "2              1.0  \n",
       "3              1.0  \n",
       "4              1.0  \n",
       "...            ...  \n",
       "799995         1.0  \n",
       "799996         1.0  \n",
       "799997         1.0  \n",
       "799998         1.0  \n",
       "799999         1.0  \n",
       "\n",
       "[800000 rows x 6 columns]"
      ],
      "text/html": "<div>\n<style scoped>\n    .dataframe tbody tr th:only-of-type {\n        vertical-align: middle;\n    }\n\n    .dataframe tbody tr th {\n        vertical-align: top;\n    }\n\n    .dataframe thead th {\n        text-align: right;\n    }\n</style>\n<table border=\"1\" class=\"dataframe\">\n  <thead>\n    <tr style=\"text-align: right;\">\n      <th></th>\n      <th>id</th>\n      <th>initialListStatus</th>\n      <th>applicationType</th>\n      <th>earliesCreditLine</th>\n      <th>title</th>\n      <th>policyCode</th>\n    </tr>\n  </thead>\n  <tbody>\n    <tr>\n      <th>0</th>\n      <td>0</td>\n      <td>0</td>\n      <td>0</td>\n      <td>Aug-2001</td>\n      <td>1.0</td>\n      <td>1.0</td>\n    </tr>\n    <tr>\n      <th>1</th>\n      <td>1</td>\n      <td>1</td>\n      <td>0</td>\n      <td>May-2002</td>\n      <td>1723.0</td>\n      <td>1.0</td>\n    </tr>\n    <tr>\n      <th>2</th>\n      <td>2</td>\n      <td>0</td>\n      <td>0</td>\n      <td>May-2006</td>\n      <td>0.0</td>\n      <td>1.0</td>\n    </tr>\n    <tr>\n      <th>3</th>\n      <td>3</td>\n      <td>1</td>\n      <td>0</td>\n      <td>May-1999</td>\n      <td>4.0</td>\n      <td>1.0</td>\n    </tr>\n    <tr>\n      <th>4</th>\n      <td>4</td>\n      <td>0</td>\n      <td>0</td>\n      <td>Aug-1977</td>\n      <td>11.0</td>\n      <td>1.0</td>\n    </tr>\n    <tr>\n      <th>...</th>\n      <td>...</td>\n      <td>...</td>\n      <td>...</td>\n      <td>...</td>\n      <td>...</td>\n      <td>...</td>\n    </tr>\n    <tr>\n      <th>799995</th>\n      <td>799995</td>\n      <td>1</td>\n      <td>0</td>\n      <td>Aug-2011</td>\n      <td>0.0</td>\n      <td>1.0</td>\n    </tr>\n    <tr>\n      <th>799996</th>\n      <td>799996</td>\n      <td>0</td>\n      <td>0</td>\n      <td>May-1989</td>\n      <td>33369.0</td>\n      <td>1.0</td>\n    </tr>\n    <tr>\n      <th>799997</th>\n      <td>799997</td>\n      <td>1</td>\n      <td>0</td>\n      <td>Jul-2002</td>\n      <td>0.0</td>\n      <td>1.0</td>\n    </tr>\n    <tr>\n      <th>799998</th>\n      <td>799998</td>\n      <td>1</td>\n      <td>0</td>\n      <td>Jan-1994</td>\n      <td>4.0</td>\n      <td>1.0</td>\n    </tr>\n    <tr>\n      <th>799999</th>\n      <td>799999</td>\n      <td>0</td>\n      <td>0</td>\n      <td>Feb-2002</td>\n      <td>4.0</td>\n      <td>1.0</td>\n    </tr>\n  </tbody>\n</table>\n<p>800000 rows × 6 columns</p>\n</div>"
     },
     "metadata": {},
     "execution_count": 46
    }
   ],
   "source": [
    "raw_data_train[['id', 'initialListStatus', 'applicationType', 'earliesCreditLine', 'title', 'policyCode']]"
   ]
  },
  {
   "source": [
    "## 匿名特征"
   ],
   "cell_type": "markdown",
   "metadata": {}
  },
  {
   "cell_type": "code",
   "execution_count": 48,
   "metadata": {},
   "outputs": [
    {
     "output_type": "execute_result",
     "data": {
      "text/plain": [
       "            id   n0   n1    n2    n3    n4    n5    n6    n7    n8    n9  \\\n",
       "0            0  0.0  2.0   2.0   2.0   4.0   9.0   8.0   4.0  12.0   2.0   \n",
       "1            1  NaN  NaN   NaN   NaN  10.0   NaN   NaN   NaN   NaN   NaN   \n",
       "2            2  0.0  0.0   3.0   3.0   0.0   0.0  21.0   4.0   5.0   3.0   \n",
       "3            3  6.0  4.0   6.0   6.0   4.0  16.0   4.0   7.0  21.0   6.0   \n",
       "4            4  1.0  2.0   7.0   7.0   2.0   4.0   9.0  10.0  15.0   7.0   \n",
       "...        ...  ...  ...   ...   ...   ...   ...   ...   ...   ...   ...   \n",
       "799995  799995  0.0  5.0  10.0  10.0   6.0   6.0   2.0  12.0  13.0  10.0   \n",
       "799996  799996  0.0  2.0   2.0   2.0   2.0  15.0  16.0   2.0  19.0   2.0   \n",
       "799997  799997  2.0  1.0   4.0   4.0   1.0   4.0  26.0   4.0  10.0   4.0   \n",
       "799998  799998  0.0  5.0   8.0   8.0   7.0  10.0   6.0  12.0  22.0   8.0   \n",
       "799999  799999  2.0  2.0   3.0   3.0   2.0   3.0   4.0   4.0   8.0   3.0   \n",
       "\n",
       "         n10  n11  n12  n13  n14  \n",
       "0        7.0  0.0  0.0  0.0  2.0  \n",
       "1       13.0  NaN  NaN  NaN  NaN  \n",
       "2       11.0  0.0  0.0  0.0  4.0  \n",
       "3        9.0  0.0  0.0  0.0  1.0  \n",
       "4       12.0  0.0  0.0  0.0  4.0  \n",
       "...      ...  ...  ...  ...  ...  \n",
       "799995  14.0  0.0  0.0  0.0  3.0  \n",
       "799996   7.0  0.0  0.0  0.0  0.0  \n",
       "799997   5.0  0.0  0.0  1.0  4.0  \n",
       "799998  16.0  0.0  0.0  0.0  5.0  \n",
       "799999   7.0  0.0  0.0  0.0  2.0  \n",
       "\n",
       "[800000 rows x 16 columns]"
      ],
      "text/html": "<div>\n<style scoped>\n    .dataframe tbody tr th:only-of-type {\n        vertical-align: middle;\n    }\n\n    .dataframe tbody tr th {\n        vertical-align: top;\n    }\n\n    .dataframe thead th {\n        text-align: right;\n    }\n</style>\n<table border=\"1\" class=\"dataframe\">\n  <thead>\n    <tr style=\"text-align: right;\">\n      <th></th>\n      <th>id</th>\n      <th>n0</th>\n      <th>n1</th>\n      <th>n2</th>\n      <th>n3</th>\n      <th>n4</th>\n      <th>n5</th>\n      <th>n6</th>\n      <th>n7</th>\n      <th>n8</th>\n      <th>n9</th>\n      <th>n10</th>\n      <th>n11</th>\n      <th>n12</th>\n      <th>n13</th>\n      <th>n14</th>\n    </tr>\n  </thead>\n  <tbody>\n    <tr>\n      <th>0</th>\n      <td>0</td>\n      <td>0.0</td>\n      <td>2.0</td>\n      <td>2.0</td>\n      <td>2.0</td>\n      <td>4.0</td>\n      <td>9.0</td>\n      <td>8.0</td>\n      <td>4.0</td>\n      <td>12.0</td>\n      <td>2.0</td>\n      <td>7.0</td>\n      <td>0.0</td>\n      <td>0.0</td>\n      <td>0.0</td>\n      <td>2.0</td>\n    </tr>\n    <tr>\n      <th>1</th>\n      <td>1</td>\n      <td>NaN</td>\n      <td>NaN</td>\n      <td>NaN</td>\n      <td>NaN</td>\n      <td>10.0</td>\n      <td>NaN</td>\n      <td>NaN</td>\n      <td>NaN</td>\n      <td>NaN</td>\n      <td>NaN</td>\n      <td>13.0</td>\n      <td>NaN</td>\n      <td>NaN</td>\n      <td>NaN</td>\n      <td>NaN</td>\n    </tr>\n    <tr>\n      <th>2</th>\n      <td>2</td>\n      <td>0.0</td>\n      <td>0.0</td>\n      <td>3.0</td>\n      <td>3.0</td>\n      <td>0.0</td>\n      <td>0.0</td>\n      <td>21.0</td>\n      <td>4.0</td>\n      <td>5.0</td>\n      <td>3.0</td>\n      <td>11.0</td>\n      <td>0.0</td>\n      <td>0.0</td>\n      <td>0.0</td>\n      <td>4.0</td>\n    </tr>\n    <tr>\n      <th>3</th>\n      <td>3</td>\n      <td>6.0</td>\n      <td>4.0</td>\n      <td>6.0</td>\n      <td>6.0</td>\n      <td>4.0</td>\n      <td>16.0</td>\n      <td>4.0</td>\n      <td>7.0</td>\n      <td>21.0</td>\n      <td>6.0</td>\n      <td>9.0</td>\n      <td>0.0</td>\n      <td>0.0</td>\n      <td>0.0</td>\n      <td>1.0</td>\n    </tr>\n    <tr>\n      <th>4</th>\n      <td>4</td>\n      <td>1.0</td>\n      <td>2.0</td>\n      <td>7.0</td>\n      <td>7.0</td>\n      <td>2.0</td>\n      <td>4.0</td>\n      <td>9.0</td>\n      <td>10.0</td>\n      <td>15.0</td>\n      <td>7.0</td>\n      <td>12.0</td>\n      <td>0.0</td>\n      <td>0.0</td>\n      <td>0.0</td>\n      <td>4.0</td>\n    </tr>\n    <tr>\n      <th>...</th>\n      <td>...</td>\n      <td>...</td>\n      <td>...</td>\n      <td>...</td>\n      <td>...</td>\n      <td>...</td>\n      <td>...</td>\n      <td>...</td>\n      <td>...</td>\n      <td>...</td>\n      <td>...</td>\n      <td>...</td>\n      <td>...</td>\n      <td>...</td>\n      <td>...</td>\n      <td>...</td>\n    </tr>\n    <tr>\n      <th>799995</th>\n      <td>799995</td>\n      <td>0.0</td>\n      <td>5.0</td>\n      <td>10.0</td>\n      <td>10.0</td>\n      <td>6.0</td>\n      <td>6.0</td>\n      <td>2.0</td>\n      <td>12.0</td>\n      <td>13.0</td>\n      <td>10.0</td>\n      <td>14.0</td>\n      <td>0.0</td>\n      <td>0.0</td>\n      <td>0.0</td>\n      <td>3.0</td>\n    </tr>\n    <tr>\n      <th>799996</th>\n      <td>799996</td>\n      <td>0.0</td>\n      <td>2.0</td>\n      <td>2.0</td>\n      <td>2.0</td>\n      <td>2.0</td>\n      <td>15.0</td>\n      <td>16.0</td>\n      <td>2.0</td>\n      <td>19.0</td>\n      <td>2.0</td>\n      <td>7.0</td>\n      <td>0.0</td>\n      <td>0.0</td>\n      <td>0.0</td>\n      <td>0.0</td>\n    </tr>\n    <tr>\n      <th>799997</th>\n      <td>799997</td>\n      <td>2.0</td>\n      <td>1.0</td>\n      <td>4.0</td>\n      <td>4.0</td>\n      <td>1.0</td>\n      <td>4.0</td>\n      <td>26.0</td>\n      <td>4.0</td>\n      <td>10.0</td>\n      <td>4.0</td>\n      <td>5.0</td>\n      <td>0.0</td>\n      <td>0.0</td>\n      <td>1.0</td>\n      <td>4.0</td>\n    </tr>\n    <tr>\n      <th>799998</th>\n      <td>799998</td>\n      <td>0.0</td>\n      <td>5.0</td>\n      <td>8.0</td>\n      <td>8.0</td>\n      <td>7.0</td>\n      <td>10.0</td>\n      <td>6.0</td>\n      <td>12.0</td>\n      <td>22.0</td>\n      <td>8.0</td>\n      <td>16.0</td>\n      <td>0.0</td>\n      <td>0.0</td>\n      <td>0.0</td>\n      <td>5.0</td>\n    </tr>\n    <tr>\n      <th>799999</th>\n      <td>799999</td>\n      <td>2.0</td>\n      <td>2.0</td>\n      <td>3.0</td>\n      <td>3.0</td>\n      <td>2.0</td>\n      <td>3.0</td>\n      <td>4.0</td>\n      <td>4.0</td>\n      <td>8.0</td>\n      <td>3.0</td>\n      <td>7.0</td>\n      <td>0.0</td>\n      <td>0.0</td>\n      <td>0.0</td>\n      <td>2.0</td>\n    </tr>\n  </tbody>\n</table>\n<p>800000 rows × 16 columns</p>\n</div>"
     },
     "metadata": {},
     "execution_count": 48
    }
   ],
   "source": [
    "raw_data_train[['id', 'n0', 'n1', 'n2', 'n3', 'n4', 'n5', 'n6', 'n7', 'n8',\n",
    "       'n9', 'n10', 'n11', 'n12', 'n13', 'n14']]"
   ]
  },
  {
   "source": [
    "# 读取数据"
   ],
   "cell_type": "markdown",
   "metadata": {}
  },
  {
   "cell_type": "code",
   "execution_count": 57,
   "metadata": {},
   "outputs": [],
   "source": [
    "converters = {'id': str, 'term': int, 'grade': str, 'subGrade': str, 'employmentTitle': str, 'employmentLength': str,\n",
    "              'homeOwnership': str, 'verificationStatus': str, 'purpose': str, 'postCode': str, 'regionCode': str,\n",
    "              'initialListStatus': str, 'applicationType': str, 'title': str, 'policyCode': str}"
   ]
  },
  {
   "cell_type": "code",
   "execution_count": 58,
   "metadata": {},
   "outputs": [],
   "source": [
    "raw_data = load_data(file_name='../../raw data/train.csv', converters=converters)"
   ]
  },
  {
   "cell_type": "code",
   "execution_count": 59,
   "metadata": {},
   "outputs": [
    {
     "output_type": "execute_result",
     "data": {
      "text/plain": [
       "            id  loanAmnt  term  interestRate  installment grade subGrade  \\\n",
       "0            0   35000.0     5         19.52       917.97     E       E2   \n",
       "1            1   18000.0     5         18.49       461.90     D       D2   \n",
       "2            2   12000.0     5         16.99       298.17     D       D3   \n",
       "3            3   11000.0     3          7.26       340.96     A       A4   \n",
       "4            4    3000.0     3         12.99       101.07     C       C2   \n",
       "...        ...       ...   ...           ...          ...   ...      ...   \n",
       "799995  799995   25000.0     3         14.49       860.41     C       C4   \n",
       "799996  799996   17000.0     3          7.90       531.94     A       A4   \n",
       "799997  799997    6000.0     3         13.33       203.12     C       C3   \n",
       "799998  799998   19200.0     3          6.92       592.14     A       A4   \n",
       "799999  799999    9000.0     3         11.06       294.91     B       B3   \n",
       "\n",
       "       employmentTitle employmentLength homeOwnership  ...    n5    n6    n7  \\\n",
       "0                320.0          2 years             2  ...   9.0   8.0   4.0   \n",
       "1             219843.0          5 years             0  ...   NaN   NaN   NaN   \n",
       "2              31698.0          8 years             0  ...   0.0  21.0   4.0   \n",
       "3              46854.0        10+ years             1  ...  16.0   4.0   7.0   \n",
       "4                 54.0                              1  ...   4.0   9.0  10.0   \n",
       "...                ...              ...           ...  ...   ...   ...   ...   \n",
       "799995          2659.0          7 years             1  ...   6.0   2.0  12.0   \n",
       "799996         29205.0        10+ years             0  ...  15.0  16.0   2.0   \n",
       "799997          2582.0        10+ years             1  ...   4.0  26.0   4.0   \n",
       "799998           151.0        10+ years             0  ...  10.0   6.0  12.0   \n",
       "799999            13.0          5 years             0  ...   3.0   4.0   4.0   \n",
       "\n",
       "          n8    n9   n10  n11  n12  n13  n14  \n",
       "0       12.0   2.0   7.0  0.0  0.0  0.0  2.0  \n",
       "1        NaN   NaN  13.0  NaN  NaN  NaN  NaN  \n",
       "2        5.0   3.0  11.0  0.0  0.0  0.0  4.0  \n",
       "3       21.0   6.0   9.0  0.0  0.0  0.0  1.0  \n",
       "4       15.0   7.0  12.0  0.0  0.0  0.0  4.0  \n",
       "...      ...   ...   ...  ...  ...  ...  ...  \n",
       "799995  13.0  10.0  14.0  0.0  0.0  0.0  3.0  \n",
       "799996  19.0   2.0   7.0  0.0  0.0  0.0  0.0  \n",
       "799997  10.0   4.0   5.0  0.0  0.0  1.0  4.0  \n",
       "799998  22.0   8.0  16.0  0.0  0.0  0.0  5.0  \n",
       "799999   8.0   3.0   7.0  0.0  0.0  0.0  2.0  \n",
       "\n",
       "[800000 rows x 47 columns]"
      ],
      "text/html": "<div>\n<style scoped>\n    .dataframe tbody tr th:only-of-type {\n        vertical-align: middle;\n    }\n\n    .dataframe tbody tr th {\n        vertical-align: top;\n    }\n\n    .dataframe thead th {\n        text-align: right;\n    }\n</style>\n<table border=\"1\" class=\"dataframe\">\n  <thead>\n    <tr style=\"text-align: right;\">\n      <th></th>\n      <th>id</th>\n      <th>loanAmnt</th>\n      <th>term</th>\n      <th>interestRate</th>\n      <th>installment</th>\n      <th>grade</th>\n      <th>subGrade</th>\n      <th>employmentTitle</th>\n      <th>employmentLength</th>\n      <th>homeOwnership</th>\n      <th>...</th>\n      <th>n5</th>\n      <th>n6</th>\n      <th>n7</th>\n      <th>n8</th>\n      <th>n9</th>\n      <th>n10</th>\n      <th>n11</th>\n      <th>n12</th>\n      <th>n13</th>\n      <th>n14</th>\n    </tr>\n  </thead>\n  <tbody>\n    <tr>\n      <th>0</th>\n      <td>0</td>\n      <td>35000.0</td>\n      <td>5</td>\n      <td>19.52</td>\n      <td>917.97</td>\n      <td>E</td>\n      <td>E2</td>\n      <td>320.0</td>\n      <td>2 years</td>\n      <td>2</td>\n      <td>...</td>\n      <td>9.0</td>\n      <td>8.0</td>\n      <td>4.0</td>\n      <td>12.0</td>\n      <td>2.0</td>\n      <td>7.0</td>\n      <td>0.0</td>\n      <td>0.0</td>\n      <td>0.0</td>\n      <td>2.0</td>\n    </tr>\n    <tr>\n      <th>1</th>\n      <td>1</td>\n      <td>18000.0</td>\n      <td>5</td>\n      <td>18.49</td>\n      <td>461.90</td>\n      <td>D</td>\n      <td>D2</td>\n      <td>219843.0</td>\n      <td>5 years</td>\n      <td>0</td>\n      <td>...</td>\n      <td>NaN</td>\n      <td>NaN</td>\n      <td>NaN</td>\n      <td>NaN</td>\n      <td>NaN</td>\n      <td>13.0</td>\n      <td>NaN</td>\n      <td>NaN</td>\n      <td>NaN</td>\n      <td>NaN</td>\n    </tr>\n    <tr>\n      <th>2</th>\n      <td>2</td>\n      <td>12000.0</td>\n      <td>5</td>\n      <td>16.99</td>\n      <td>298.17</td>\n      <td>D</td>\n      <td>D3</td>\n      <td>31698.0</td>\n      <td>8 years</td>\n      <td>0</td>\n      <td>...</td>\n      <td>0.0</td>\n      <td>21.0</td>\n      <td>4.0</td>\n      <td>5.0</td>\n      <td>3.0</td>\n      <td>11.0</td>\n      <td>0.0</td>\n      <td>0.0</td>\n      <td>0.0</td>\n      <td>4.0</td>\n    </tr>\n    <tr>\n      <th>3</th>\n      <td>3</td>\n      <td>11000.0</td>\n      <td>3</td>\n      <td>7.26</td>\n      <td>340.96</td>\n      <td>A</td>\n      <td>A4</td>\n      <td>46854.0</td>\n      <td>10+ years</td>\n      <td>1</td>\n      <td>...</td>\n      <td>16.0</td>\n      <td>4.0</td>\n      <td>7.0</td>\n      <td>21.0</td>\n      <td>6.0</td>\n      <td>9.0</td>\n      <td>0.0</td>\n      <td>0.0</td>\n      <td>0.0</td>\n      <td>1.0</td>\n    </tr>\n    <tr>\n      <th>4</th>\n      <td>4</td>\n      <td>3000.0</td>\n      <td>3</td>\n      <td>12.99</td>\n      <td>101.07</td>\n      <td>C</td>\n      <td>C2</td>\n      <td>54.0</td>\n      <td></td>\n      <td>1</td>\n      <td>...</td>\n      <td>4.0</td>\n      <td>9.0</td>\n      <td>10.0</td>\n      <td>15.0</td>\n      <td>7.0</td>\n      <td>12.0</td>\n      <td>0.0</td>\n      <td>0.0</td>\n      <td>0.0</td>\n      <td>4.0</td>\n    </tr>\n    <tr>\n      <th>...</th>\n      <td>...</td>\n      <td>...</td>\n      <td>...</td>\n      <td>...</td>\n      <td>...</td>\n      <td>...</td>\n      <td>...</td>\n      <td>...</td>\n      <td>...</td>\n      <td>...</td>\n      <td>...</td>\n      <td>...</td>\n      <td>...</td>\n      <td>...</td>\n      <td>...</td>\n      <td>...</td>\n      <td>...</td>\n      <td>...</td>\n      <td>...</td>\n      <td>...</td>\n      <td>...</td>\n    </tr>\n    <tr>\n      <th>799995</th>\n      <td>799995</td>\n      <td>25000.0</td>\n      <td>3</td>\n      <td>14.49</td>\n      <td>860.41</td>\n      <td>C</td>\n      <td>C4</td>\n      <td>2659.0</td>\n      <td>7 years</td>\n      <td>1</td>\n      <td>...</td>\n      <td>6.0</td>\n      <td>2.0</td>\n      <td>12.0</td>\n      <td>13.0</td>\n      <td>10.0</td>\n      <td>14.0</td>\n      <td>0.0</td>\n      <td>0.0</td>\n      <td>0.0</td>\n      <td>3.0</td>\n    </tr>\n    <tr>\n      <th>799996</th>\n      <td>799996</td>\n      <td>17000.0</td>\n      <td>3</td>\n      <td>7.90</td>\n      <td>531.94</td>\n      <td>A</td>\n      <td>A4</td>\n      <td>29205.0</td>\n      <td>10+ years</td>\n      <td>0</td>\n      <td>...</td>\n      <td>15.0</td>\n      <td>16.0</td>\n      <td>2.0</td>\n      <td>19.0</td>\n      <td>2.0</td>\n      <td>7.0</td>\n      <td>0.0</td>\n      <td>0.0</td>\n      <td>0.0</td>\n      <td>0.0</td>\n    </tr>\n    <tr>\n      <th>799997</th>\n      <td>799997</td>\n      <td>6000.0</td>\n      <td>3</td>\n      <td>13.33</td>\n      <td>203.12</td>\n      <td>C</td>\n      <td>C3</td>\n      <td>2582.0</td>\n      <td>10+ years</td>\n      <td>1</td>\n      <td>...</td>\n      <td>4.0</td>\n      <td>26.0</td>\n      <td>4.0</td>\n      <td>10.0</td>\n      <td>4.0</td>\n      <td>5.0</td>\n      <td>0.0</td>\n      <td>0.0</td>\n      <td>1.0</td>\n      <td>4.0</td>\n    </tr>\n    <tr>\n      <th>799998</th>\n      <td>799998</td>\n      <td>19200.0</td>\n      <td>3</td>\n      <td>6.92</td>\n      <td>592.14</td>\n      <td>A</td>\n      <td>A4</td>\n      <td>151.0</td>\n      <td>10+ years</td>\n      <td>0</td>\n      <td>...</td>\n      <td>10.0</td>\n      <td>6.0</td>\n      <td>12.0</td>\n      <td>22.0</td>\n      <td>8.0</td>\n      <td>16.0</td>\n      <td>0.0</td>\n      <td>0.0</td>\n      <td>0.0</td>\n      <td>5.0</td>\n    </tr>\n    <tr>\n      <th>799999</th>\n      <td>799999</td>\n      <td>9000.0</td>\n      <td>3</td>\n      <td>11.06</td>\n      <td>294.91</td>\n      <td>B</td>\n      <td>B3</td>\n      <td>13.0</td>\n      <td>5 years</td>\n      <td>0</td>\n      <td>...</td>\n      <td>3.0</td>\n      <td>4.0</td>\n      <td>4.0</td>\n      <td>8.0</td>\n      <td>3.0</td>\n      <td>7.0</td>\n      <td>0.0</td>\n      <td>0.0</td>\n      <td>0.0</td>\n      <td>2.0</td>\n    </tr>\n  </tbody>\n</table>\n<p>800000 rows × 47 columns</p>\n</div>"
     },
     "metadata": {},
     "execution_count": 59
    }
   ],
   "source": [
    "raw_data"
   ]
  },
  {
   "source": [
    "# 训练"
   ],
   "cell_type": "markdown",
   "metadata": {}
  },
  {
   "cell_type": "code",
   "execution_count": null,
   "metadata": {},
   "outputs": [],
   "source": [
    "lgb_params = {\n",
    "    'boosting_type': 'gbdt',\n",
    "    'objective': 'binary',\n",
    "    'num_leaves': 30,\n",
    "    'num_round': 360,\n",
    "    'max_depth':8,\n",
    "    'learning_rate': 0.01,\n",
    "    'feature_fraction': 0.5,\n",
    "    'bagging_fraction': 0.8,\n",
    "    'bagging_freq': 12\n",
    "}\n",
    "\n",
    "clf = lgb.LGBMClassifier(lgb_params)\n",
    "\n",
    "features = ['loanAmnt', 'term', 'interestRate', 'installment', 'grade',\n",
    "       'subGrade', 'employmentTitle', 'homeOwnership',\n",
    "       'annualIncome', 'verificationStatus', 'issueDate', 'isDefault',\n",
    "       'purpose', 'postCode', 'regionCode', 'dti', 'delinquency_2years',\n",
    "       'ficoRangeLow', 'ficoRangeHigh', 'openAcc', 'pubRec',\n",
    "       'pubRecBankruptcies', 'revolBal', 'revolUtil', 'totalAcc',\n",
    "       'initialListStatus', 'applicationType', 'earliesCreditLine', 'title',\n",
    "       'policyCode', 'n0', 'n1', 'n2', 'n3', 'n4', 'n5', 'n6', 'n7', 'n8',\n",
    "       'n9', 'n10', 'n11', 'n12', 'n13', 'n14']\n",
    "\n",
    "# load data\n",
    "X, y = raw_data[features], raw_data['isDefault']\n",
    "lgb.fit"
   ]
  },
  {
   "source": [
    "# 预测"
   ],
   "cell_type": "markdown",
   "metadata": {}
  },
  {
   "cell_type": "code",
   "execution_count": null,
   "metadata": {},
   "outputs": [],
   "source": []
  },
  {
   "cell_type": "code",
   "execution_count": null,
   "metadata": {},
   "outputs": [],
   "source": []
  },
  {
   "cell_type": "code",
   "execution_count": null,
   "metadata": {},
   "outputs": [],
   "source": []
  },
  {
   "cell_type": "code",
   "execution_count": null,
   "metadata": {},
   "outputs": [],
   "source": []
  }
 ]
}